{
  "nbformat": 4,
  "nbformat_minor": 0,
  "metadata": {
    "colab": {
      "name": "PyCon KR 2020_Features of Transformers.ipynb",
      "provenance": [],
      "toc_visible": true
    },
    "kernelspec": {
      "name": "python3",
      "display_name": "Python 3"
    },
    "widgets": {
      "application/vnd.jupyter.widget-state+json": {
        "8436970914a24b449e3b435ac5cb9454": {
          "model_module": "@jupyter-widgets/controls",
          "model_name": "HBoxModel",
          "state": {
            "_view_name": "HBoxView",
            "_dom_classes": [],
            "_model_name": "HBoxModel",
            "_view_module": "@jupyter-widgets/controls",
            "_model_module_version": "1.5.0",
            "_view_count": null,
            "_view_module_version": "1.5.0",
            "box_style": "",
            "layout": "IPY_MODEL_0d6142f372a74c6ca2f12af6c2105639",
            "_model_module": "@jupyter-widgets/controls",
            "children": [
              "IPY_MODEL_de3e970afa584cb4b990584897c651a5",
              "IPY_MODEL_232344cccfc5495289a9372a095b0482"
            ]
          }
        },
        "0d6142f372a74c6ca2f12af6c2105639": {
          "model_module": "@jupyter-widgets/base",
          "model_name": "LayoutModel",
          "state": {
            "_view_name": "LayoutView",
            "grid_template_rows": null,
            "right": null,
            "justify_content": null,
            "_view_module": "@jupyter-widgets/base",
            "overflow": null,
            "_model_module_version": "1.2.0",
            "_view_count": null,
            "flex_flow": null,
            "width": null,
            "min_width": null,
            "border": null,
            "align_items": null,
            "bottom": null,
            "_model_module": "@jupyter-widgets/base",
            "top": null,
            "grid_column": null,
            "overflow_y": null,
            "overflow_x": null,
            "grid_auto_flow": null,
            "grid_area": null,
            "grid_template_columns": null,
            "flex": null,
            "_model_name": "LayoutModel",
            "justify_items": null,
            "grid_row": null,
            "max_height": null,
            "align_content": null,
            "visibility": null,
            "align_self": null,
            "height": null,
            "min_height": null,
            "padding": null,
            "grid_auto_rows": null,
            "grid_gap": null,
            "max_width": null,
            "order": null,
            "_view_module_version": "1.2.0",
            "grid_template_areas": null,
            "object_position": null,
            "object_fit": null,
            "grid_auto_columns": null,
            "margin": null,
            "display": null,
            "left": null
          }
        },
        "de3e970afa584cb4b990584897c651a5": {
          "model_module": "@jupyter-widgets/controls",
          "model_name": "FloatProgressModel",
          "state": {
            "_view_name": "ProgressView",
            "style": "IPY_MODEL_b2dbb83168a44709852c2dd0d945277a",
            "_dom_classes": [],
            "description": "Downloading: 100%",
            "_model_name": "FloatProgressModel",
            "bar_style": "success",
            "max": 625,
            "_view_module": "@jupyter-widgets/controls",
            "_model_module_version": "1.5.0",
            "value": 625,
            "_view_count": null,
            "_view_module_version": "1.5.0",
            "orientation": "horizontal",
            "min": 0,
            "description_tooltip": null,
            "_model_module": "@jupyter-widgets/controls",
            "layout": "IPY_MODEL_51667fd722a94ffeabba797f7b03f0c3"
          }
        },
        "232344cccfc5495289a9372a095b0482": {
          "model_module": "@jupyter-widgets/controls",
          "model_name": "HTMLModel",
          "state": {
            "_view_name": "HTMLView",
            "style": "IPY_MODEL_1d5f5c2b993b401aabd32aea991487d9",
            "_dom_classes": [],
            "description": "",
            "_model_name": "HTMLModel",
            "placeholder": "​",
            "_view_module": "@jupyter-widgets/controls",
            "_model_module_version": "1.5.0",
            "value": " 625/625 [00:00&lt;00:00, 3.95kB/s]",
            "_view_count": null,
            "_view_module_version": "1.5.0",
            "description_tooltip": null,
            "_model_module": "@jupyter-widgets/controls",
            "layout": "IPY_MODEL_34e355575b0e4909af43ab5d25317ac6"
          }
        },
        "b2dbb83168a44709852c2dd0d945277a": {
          "model_module": "@jupyter-widgets/controls",
          "model_name": "ProgressStyleModel",
          "state": {
            "_view_name": "StyleView",
            "_model_name": "ProgressStyleModel",
            "description_width": "initial",
            "_view_module": "@jupyter-widgets/base",
            "_model_module_version": "1.5.0",
            "_view_count": null,
            "_view_module_version": "1.2.0",
            "bar_color": null,
            "_model_module": "@jupyter-widgets/controls"
          }
        },
        "51667fd722a94ffeabba797f7b03f0c3": {
          "model_module": "@jupyter-widgets/base",
          "model_name": "LayoutModel",
          "state": {
            "_view_name": "LayoutView",
            "grid_template_rows": null,
            "right": null,
            "justify_content": null,
            "_view_module": "@jupyter-widgets/base",
            "overflow": null,
            "_model_module_version": "1.2.0",
            "_view_count": null,
            "flex_flow": null,
            "width": null,
            "min_width": null,
            "border": null,
            "align_items": null,
            "bottom": null,
            "_model_module": "@jupyter-widgets/base",
            "top": null,
            "grid_column": null,
            "overflow_y": null,
            "overflow_x": null,
            "grid_auto_flow": null,
            "grid_area": null,
            "grid_template_columns": null,
            "flex": null,
            "_model_name": "LayoutModel",
            "justify_items": null,
            "grid_row": null,
            "max_height": null,
            "align_content": null,
            "visibility": null,
            "align_self": null,
            "height": null,
            "min_height": null,
            "padding": null,
            "grid_auto_rows": null,
            "grid_gap": null,
            "max_width": null,
            "order": null,
            "_view_module_version": "1.2.0",
            "grid_template_areas": null,
            "object_position": null,
            "object_fit": null,
            "grid_auto_columns": null,
            "margin": null,
            "display": null,
            "left": null
          }
        },
        "1d5f5c2b993b401aabd32aea991487d9": {
          "model_module": "@jupyter-widgets/controls",
          "model_name": "DescriptionStyleModel",
          "state": {
            "_view_name": "StyleView",
            "_model_name": "DescriptionStyleModel",
            "description_width": "",
            "_view_module": "@jupyter-widgets/base",
            "_model_module_version": "1.5.0",
            "_view_count": null,
            "_view_module_version": "1.2.0",
            "_model_module": "@jupyter-widgets/controls"
          }
        },
        "34e355575b0e4909af43ab5d25317ac6": {
          "model_module": "@jupyter-widgets/base",
          "model_name": "LayoutModel",
          "state": {
            "_view_name": "LayoutView",
            "grid_template_rows": null,
            "right": null,
            "justify_content": null,
            "_view_module": "@jupyter-widgets/base",
            "overflow": null,
            "_model_module_version": "1.2.0",
            "_view_count": null,
            "flex_flow": null,
            "width": null,
            "min_width": null,
            "border": null,
            "align_items": null,
            "bottom": null,
            "_model_module": "@jupyter-widgets/base",
            "top": null,
            "grid_column": null,
            "overflow_y": null,
            "overflow_x": null,
            "grid_auto_flow": null,
            "grid_area": null,
            "grid_template_columns": null,
            "flex": null,
            "_model_name": "LayoutModel",
            "justify_items": null,
            "grid_row": null,
            "max_height": null,
            "align_content": null,
            "visibility": null,
            "align_self": null,
            "height": null,
            "min_height": null,
            "padding": null,
            "grid_auto_rows": null,
            "grid_gap": null,
            "max_width": null,
            "order": null,
            "_view_module_version": "1.2.0",
            "grid_template_areas": null,
            "object_position": null,
            "object_fit": null,
            "grid_auto_columns": null,
            "margin": null,
            "display": null,
            "left": null
          }
        },
        "4ed6a7a38ed74ab2a3a803bf807ac75a": {
          "model_module": "@jupyter-widgets/controls",
          "model_name": "HBoxModel",
          "state": {
            "_view_name": "HBoxView",
            "_dom_classes": [],
            "_model_name": "HBoxModel",
            "_view_module": "@jupyter-widgets/controls",
            "_model_module_version": "1.5.0",
            "_view_count": null,
            "_view_module_version": "1.5.0",
            "box_style": "",
            "layout": "IPY_MODEL_159c1d10367d4e7aa9b30361ac2118fe",
            "_model_module": "@jupyter-widgets/controls",
            "children": [
              "IPY_MODEL_423effc7ab994e53aa9c809e356f2bee",
              "IPY_MODEL_f1c35e01aab943c19fc5f711bb929ee8"
            ]
          }
        },
        "159c1d10367d4e7aa9b30361ac2118fe": {
          "model_module": "@jupyter-widgets/base",
          "model_name": "LayoutModel",
          "state": {
            "_view_name": "LayoutView",
            "grid_template_rows": null,
            "right": null,
            "justify_content": null,
            "_view_module": "@jupyter-widgets/base",
            "overflow": null,
            "_model_module_version": "1.2.0",
            "_view_count": null,
            "flex_flow": null,
            "width": null,
            "min_width": null,
            "border": null,
            "align_items": null,
            "bottom": null,
            "_model_module": "@jupyter-widgets/base",
            "top": null,
            "grid_column": null,
            "overflow_y": null,
            "overflow_x": null,
            "grid_auto_flow": null,
            "grid_area": null,
            "grid_template_columns": null,
            "flex": null,
            "_model_name": "LayoutModel",
            "justify_items": null,
            "grid_row": null,
            "max_height": null,
            "align_content": null,
            "visibility": null,
            "align_self": null,
            "height": null,
            "min_height": null,
            "padding": null,
            "grid_auto_rows": null,
            "grid_gap": null,
            "max_width": null,
            "order": null,
            "_view_module_version": "1.2.0",
            "grid_template_areas": null,
            "object_position": null,
            "object_fit": null,
            "grid_auto_columns": null,
            "margin": null,
            "display": null,
            "left": null
          }
        },
        "423effc7ab994e53aa9c809e356f2bee": {
          "model_module": "@jupyter-widgets/controls",
          "model_name": "FloatProgressModel",
          "state": {
            "_view_name": "ProgressView",
            "style": "IPY_MODEL_46a614b1b80e4293bb2d261ad260c431",
            "_dom_classes": [],
            "description": "Downloading: 100%",
            "_model_name": "FloatProgressModel",
            "bar_style": "success",
            "max": 995526,
            "_view_module": "@jupyter-widgets/controls",
            "_model_module_version": "1.5.0",
            "value": 995526,
            "_view_count": null,
            "_view_module_version": "1.5.0",
            "orientation": "horizontal",
            "min": 0,
            "description_tooltip": null,
            "_model_module": "@jupyter-widgets/controls",
            "layout": "IPY_MODEL_72d04c9da0fb4b53a87c47ba615d089c"
          }
        },
        "f1c35e01aab943c19fc5f711bb929ee8": {
          "model_module": "@jupyter-widgets/controls",
          "model_name": "HTMLModel",
          "state": {
            "_view_name": "HTMLView",
            "style": "IPY_MODEL_491d33a3b470483eae96b98cc3ad1d3f",
            "_dom_classes": [],
            "description": "",
            "_model_name": "HTMLModel",
            "placeholder": "​",
            "_view_module": "@jupyter-widgets/controls",
            "_model_module_version": "1.5.0",
            "value": " 996k/996k [00:00&lt;00:00, 4.23MB/s]",
            "_view_count": null,
            "_view_module_version": "1.5.0",
            "description_tooltip": null,
            "_model_module": "@jupyter-widgets/controls",
            "layout": "IPY_MODEL_ef2b77b2ae7f4ba9afdfacb23a5a5610"
          }
        },
        "46a614b1b80e4293bb2d261ad260c431": {
          "model_module": "@jupyter-widgets/controls",
          "model_name": "ProgressStyleModel",
          "state": {
            "_view_name": "StyleView",
            "_model_name": "ProgressStyleModel",
            "description_width": "initial",
            "_view_module": "@jupyter-widgets/base",
            "_model_module_version": "1.5.0",
            "_view_count": null,
            "_view_module_version": "1.2.0",
            "bar_color": null,
            "_model_module": "@jupyter-widgets/controls"
          }
        },
        "72d04c9da0fb4b53a87c47ba615d089c": {
          "model_module": "@jupyter-widgets/base",
          "model_name": "LayoutModel",
          "state": {
            "_view_name": "LayoutView",
            "grid_template_rows": null,
            "right": null,
            "justify_content": null,
            "_view_module": "@jupyter-widgets/base",
            "overflow": null,
            "_model_module_version": "1.2.0",
            "_view_count": null,
            "flex_flow": null,
            "width": null,
            "min_width": null,
            "border": null,
            "align_items": null,
            "bottom": null,
            "_model_module": "@jupyter-widgets/base",
            "top": null,
            "grid_column": null,
            "overflow_y": null,
            "overflow_x": null,
            "grid_auto_flow": null,
            "grid_area": null,
            "grid_template_columns": null,
            "flex": null,
            "_model_name": "LayoutModel",
            "justify_items": null,
            "grid_row": null,
            "max_height": null,
            "align_content": null,
            "visibility": null,
            "align_self": null,
            "height": null,
            "min_height": null,
            "padding": null,
            "grid_auto_rows": null,
            "grid_gap": null,
            "max_width": null,
            "order": null,
            "_view_module_version": "1.2.0",
            "grid_template_areas": null,
            "object_position": null,
            "object_fit": null,
            "grid_auto_columns": null,
            "margin": null,
            "display": null,
            "left": null
          }
        },
        "491d33a3b470483eae96b98cc3ad1d3f": {
          "model_module": "@jupyter-widgets/controls",
          "model_name": "DescriptionStyleModel",
          "state": {
            "_view_name": "StyleView",
            "_model_name": "DescriptionStyleModel",
            "description_width": "",
            "_view_module": "@jupyter-widgets/base",
            "_model_module_version": "1.5.0",
            "_view_count": null,
            "_view_module_version": "1.2.0",
            "_model_module": "@jupyter-widgets/controls"
          }
        },
        "ef2b77b2ae7f4ba9afdfacb23a5a5610": {
          "model_module": "@jupyter-widgets/base",
          "model_name": "LayoutModel",
          "state": {
            "_view_name": "LayoutView",
            "grid_template_rows": null,
            "right": null,
            "justify_content": null,
            "_view_module": "@jupyter-widgets/base",
            "overflow": null,
            "_model_module_version": "1.2.0",
            "_view_count": null,
            "flex_flow": null,
            "width": null,
            "min_width": null,
            "border": null,
            "align_items": null,
            "bottom": null,
            "_model_module": "@jupyter-widgets/base",
            "top": null,
            "grid_column": null,
            "overflow_y": null,
            "overflow_x": null,
            "grid_auto_flow": null,
            "grid_area": null,
            "grid_template_columns": null,
            "flex": null,
            "_model_name": "LayoutModel",
            "justify_items": null,
            "grid_row": null,
            "max_height": null,
            "align_content": null,
            "visibility": null,
            "align_self": null,
            "height": null,
            "min_height": null,
            "padding": null,
            "grid_auto_rows": null,
            "grid_gap": null,
            "max_width": null,
            "order": null,
            "_view_module_version": "1.2.0",
            "grid_template_areas": null,
            "object_position": null,
            "object_fit": null,
            "grid_auto_columns": null,
            "margin": null,
            "display": null,
            "left": null
          }
        },
        "80c378fb07194fc896b468dc00d29c56": {
          "model_module": "@jupyter-widgets/controls",
          "model_name": "HBoxModel",
          "state": {
            "_view_name": "HBoxView",
            "_dom_classes": [],
            "_model_name": "HBoxModel",
            "_view_module": "@jupyter-widgets/controls",
            "_model_module_version": "1.5.0",
            "_view_count": null,
            "_view_module_version": "1.5.0",
            "box_style": "",
            "layout": "IPY_MODEL_9a5b67e8507a4eec8323fe11622853e6",
            "_model_module": "@jupyter-widgets/controls",
            "children": [
              "IPY_MODEL_7aa4107f387444e4af15862abea7dd71",
              "IPY_MODEL_934abbe0801c4952919fd6135f8096b1"
            ]
          }
        },
        "9a5b67e8507a4eec8323fe11622853e6": {
          "model_module": "@jupyter-widgets/base",
          "model_name": "LayoutModel",
          "state": {
            "_view_name": "LayoutView",
            "grid_template_rows": null,
            "right": null,
            "justify_content": null,
            "_view_module": "@jupyter-widgets/base",
            "overflow": null,
            "_model_module_version": "1.2.0",
            "_view_count": null,
            "flex_flow": null,
            "width": null,
            "min_width": null,
            "border": null,
            "align_items": null,
            "bottom": null,
            "_model_module": "@jupyter-widgets/base",
            "top": null,
            "grid_column": null,
            "overflow_y": null,
            "overflow_x": null,
            "grid_auto_flow": null,
            "grid_area": null,
            "grid_template_columns": null,
            "flex": null,
            "_model_name": "LayoutModel",
            "justify_items": null,
            "grid_row": null,
            "max_height": null,
            "align_content": null,
            "visibility": null,
            "align_self": null,
            "height": null,
            "min_height": null,
            "padding": null,
            "grid_auto_rows": null,
            "grid_gap": null,
            "max_width": null,
            "order": null,
            "_view_module_version": "1.2.0",
            "grid_template_areas": null,
            "object_position": null,
            "object_fit": null,
            "grid_auto_columns": null,
            "margin": null,
            "display": null,
            "left": null
          }
        },
        "7aa4107f387444e4af15862abea7dd71": {
          "model_module": "@jupyter-widgets/controls",
          "model_name": "FloatProgressModel",
          "state": {
            "_view_name": "ProgressView",
            "style": "IPY_MODEL_a89ad02ebccd400daec4575d9f0f9428",
            "_dom_classes": [],
            "description": "Downloading: 100%",
            "_model_name": "FloatProgressModel",
            "bar_style": "success",
            "max": 714314041,
            "_view_module": "@jupyter-widgets/controls",
            "_model_module_version": "1.5.0",
            "value": 714314041,
            "_view_count": null,
            "_view_module_version": "1.5.0",
            "orientation": "horizontal",
            "min": 0,
            "description_tooltip": null,
            "_model_module": "@jupyter-widgets/controls",
            "layout": "IPY_MODEL_b76a74a6dc1f4866b5707899ba535ee9"
          }
        },
        "934abbe0801c4952919fd6135f8096b1": {
          "model_module": "@jupyter-widgets/controls",
          "model_name": "HTMLModel",
          "state": {
            "_view_name": "HTMLView",
            "style": "IPY_MODEL_922f9a60e80a4b4295dd064a15afd1bf",
            "_dom_classes": [],
            "description": "",
            "_model_name": "HTMLModel",
            "placeholder": "​",
            "_view_module": "@jupyter-widgets/controls",
            "_model_module_version": "1.5.0",
            "value": " 714M/714M [00:12&lt;00:00, 56.1MB/s]",
            "_view_count": null,
            "_view_module_version": "1.5.0",
            "description_tooltip": null,
            "_model_module": "@jupyter-widgets/controls",
            "layout": "IPY_MODEL_7359827231704bf5bf50c69a49c23ba5"
          }
        },
        "a89ad02ebccd400daec4575d9f0f9428": {
          "model_module": "@jupyter-widgets/controls",
          "model_name": "ProgressStyleModel",
          "state": {
            "_view_name": "StyleView",
            "_model_name": "ProgressStyleModel",
            "description_width": "initial",
            "_view_module": "@jupyter-widgets/base",
            "_model_module_version": "1.5.0",
            "_view_count": null,
            "_view_module_version": "1.2.0",
            "bar_color": null,
            "_model_module": "@jupyter-widgets/controls"
          }
        },
        "b76a74a6dc1f4866b5707899ba535ee9": {
          "model_module": "@jupyter-widgets/base",
          "model_name": "LayoutModel",
          "state": {
            "_view_name": "LayoutView",
            "grid_template_rows": null,
            "right": null,
            "justify_content": null,
            "_view_module": "@jupyter-widgets/base",
            "overflow": null,
            "_model_module_version": "1.2.0",
            "_view_count": null,
            "flex_flow": null,
            "width": null,
            "min_width": null,
            "border": null,
            "align_items": null,
            "bottom": null,
            "_model_module": "@jupyter-widgets/base",
            "top": null,
            "grid_column": null,
            "overflow_y": null,
            "overflow_x": null,
            "grid_auto_flow": null,
            "grid_area": null,
            "grid_template_columns": null,
            "flex": null,
            "_model_name": "LayoutModel",
            "justify_items": null,
            "grid_row": null,
            "max_height": null,
            "align_content": null,
            "visibility": null,
            "align_self": null,
            "height": null,
            "min_height": null,
            "padding": null,
            "grid_auto_rows": null,
            "grid_gap": null,
            "max_width": null,
            "order": null,
            "_view_module_version": "1.2.0",
            "grid_template_areas": null,
            "object_position": null,
            "object_fit": null,
            "grid_auto_columns": null,
            "margin": null,
            "display": null,
            "left": null
          }
        },
        "922f9a60e80a4b4295dd064a15afd1bf": {
          "model_module": "@jupyter-widgets/controls",
          "model_name": "DescriptionStyleModel",
          "state": {
            "_view_name": "StyleView",
            "_model_name": "DescriptionStyleModel",
            "description_width": "",
            "_view_module": "@jupyter-widgets/base",
            "_model_module_version": "1.5.0",
            "_view_count": null,
            "_view_module_version": "1.2.0",
            "_model_module": "@jupyter-widgets/controls"
          }
        },
        "7359827231704bf5bf50c69a49c23ba5": {
          "model_module": "@jupyter-widgets/base",
          "model_name": "LayoutModel",
          "state": {
            "_view_name": "LayoutView",
            "grid_template_rows": null,
            "right": null,
            "justify_content": null,
            "_view_module": "@jupyter-widgets/base",
            "overflow": null,
            "_model_module_version": "1.2.0",
            "_view_count": null,
            "flex_flow": null,
            "width": null,
            "min_width": null,
            "border": null,
            "align_items": null,
            "bottom": null,
            "_model_module": "@jupyter-widgets/base",
            "top": null,
            "grid_column": null,
            "overflow_y": null,
            "overflow_x": null,
            "grid_auto_flow": null,
            "grid_area": null,
            "grid_template_columns": null,
            "flex": null,
            "_model_name": "LayoutModel",
            "justify_items": null,
            "grid_row": null,
            "max_height": null,
            "align_content": null,
            "visibility": null,
            "align_self": null,
            "height": null,
            "min_height": null,
            "padding": null,
            "grid_auto_rows": null,
            "grid_gap": null,
            "max_width": null,
            "order": null,
            "_view_module_version": "1.2.0",
            "grid_template_areas": null,
            "object_position": null,
            "object_fit": null,
            "grid_auto_columns": null,
            "margin": null,
            "display": null,
            "left": null
          }
        }
      }
    }
  },
  "cells": [
    {
      "cell_type": "markdown",
      "metadata": {
        "id": "6tQWpsgIW-aW",
        "colab_type": "text"
      },
      "source": [
        "# Transformers 설치"
      ]
    },
    {
      "cell_type": "code",
      "metadata": {
        "id": "48p2CgLiDq3U",
        "colab_type": "code",
        "colab": {
          "base_uri": "https://localhost:8080/",
          "height": 615
        },
        "outputId": "880b9bff-f5e6-4864-8911-e3918f8b1604"
      },
      "source": [
        "!pip install transformers"
      ],
      "execution_count": null,
      "outputs": [
        {
          "output_type": "stream",
          "text": [
            "Collecting transformers\n",
            "\u001b[?25l  Downloading https://files.pythonhosted.org/packages/ae/05/c8c55b600308dc04e95100dc8ad8a244dd800fe75dfafcf1d6348c6f6209/transformers-3.1.0-py3-none-any.whl (884kB)\n",
            "\u001b[K     |████████████████████████████████| 890kB 2.4MB/s \n",
            "\u001b[?25hRequirement already satisfied: regex!=2019.12.17 in /usr/local/lib/python3.6/dist-packages (from transformers) (2019.12.20)\n",
            "Collecting sacremoses\n",
            "\u001b[?25l  Downloading https://files.pythonhosted.org/packages/7d/34/09d19aff26edcc8eb2a01bed8e98f13a1537005d31e95233fd48216eed10/sacremoses-0.0.43.tar.gz (883kB)\n",
            "\u001b[K     |████████████████████████████████| 890kB 13.1MB/s \n",
            "\u001b[?25hRequirement already satisfied: filelock in /usr/local/lib/python3.6/dist-packages (from transformers) (3.0.12)\n",
            "Requirement already satisfied: numpy in /usr/local/lib/python3.6/dist-packages (from transformers) (1.18.5)\n",
            "Collecting sentencepiece!=0.1.92\n",
            "\u001b[?25l  Downloading https://files.pythonhosted.org/packages/d4/a4/d0a884c4300004a78cca907a6ff9a5e9fe4f090f5d95ab341c53d28cbc58/sentencepiece-0.1.91-cp36-cp36m-manylinux1_x86_64.whl (1.1MB)\n",
            "\u001b[K     |████████████████████████████████| 1.1MB 15.3MB/s \n",
            "\u001b[?25hRequirement already satisfied: packaging in /usr/local/lib/python3.6/dist-packages (from transformers) (20.4)\n",
            "Requirement already satisfied: requests in /usr/local/lib/python3.6/dist-packages (from transformers) (2.23.0)\n",
            "Requirement already satisfied: dataclasses; python_version < \"3.7\" in /usr/local/lib/python3.6/dist-packages (from transformers) (0.7)\n",
            "Requirement already satisfied: tqdm>=4.27 in /usr/local/lib/python3.6/dist-packages (from transformers) (4.41.1)\n",
            "Collecting tokenizers==0.8.1.rc2\n",
            "\u001b[?25l  Downloading https://files.pythonhosted.org/packages/80/83/8b9fccb9e48eeb575ee19179e2bdde0ee9a1904f97de5f02d19016b8804f/tokenizers-0.8.1rc2-cp36-cp36m-manylinux1_x86_64.whl (3.0MB)\n",
            "\u001b[K     |████████████████████████████████| 3.0MB 21.1MB/s \n",
            "\u001b[?25hRequirement already satisfied: six in /usr/local/lib/python3.6/dist-packages (from sacremoses->transformers) (1.15.0)\n",
            "Requirement already satisfied: click in /usr/local/lib/python3.6/dist-packages (from sacremoses->transformers) (7.1.2)\n",
            "Requirement already satisfied: joblib in /usr/local/lib/python3.6/dist-packages (from sacremoses->transformers) (0.16.0)\n",
            "Requirement already satisfied: pyparsing>=2.0.2 in /usr/local/lib/python3.6/dist-packages (from packaging->transformers) (2.4.7)\n",
            "Requirement already satisfied: idna<3,>=2.5 in /usr/local/lib/python3.6/dist-packages (from requests->transformers) (2.10)\n",
            "Requirement already satisfied: chardet<4,>=3.0.2 in /usr/local/lib/python3.6/dist-packages (from requests->transformers) (3.0.4)\n",
            "Requirement already satisfied: certifi>=2017.4.17 in /usr/local/lib/python3.6/dist-packages (from requests->transformers) (2020.6.20)\n",
            "Requirement already satisfied: urllib3!=1.25.0,!=1.25.1,<1.26,>=1.21.1 in /usr/local/lib/python3.6/dist-packages (from requests->transformers) (1.24.3)\n",
            "Building wheels for collected packages: sacremoses\n",
            "  Building wheel for sacremoses (setup.py) ... \u001b[?25l\u001b[?25hdone\n",
            "  Created wheel for sacremoses: filename=sacremoses-0.0.43-cp36-none-any.whl size=893257 sha256=4e02ef2cc1801f468d948b41101081d2029a4ace13442a9acfb0cf2f52028e4e\n",
            "  Stored in directory: /root/.cache/pip/wheels/29/3c/fd/7ce5c3f0666dab31a50123635e6fb5e19ceb42ce38d4e58f45\n",
            "Successfully built sacremoses\n",
            "Installing collected packages: sacremoses, sentencepiece, tokenizers, transformers\n",
            "Successfully installed sacremoses-0.0.43 sentencepiece-0.1.91 tokenizers-0.8.1rc2 transformers-3.1.0\n"
          ],
          "name": "stdout"
        }
      ]
    },
    {
      "cell_type": "markdown",
      "metadata": {
        "id": "0G2XK1l9EFqr",
        "colab_type": "text"
      },
      "source": [
        "## 1) 간결하고 사용성이 좋은 API"
      ]
    },
    {
      "cell_type": "code",
      "metadata": {
        "id": "uUu5KBoWDPWb",
        "colab_type": "code",
        "colab": {
          "base_uri": "https://localhost:8080/",
          "height": 164,
          "referenced_widgets": [
            "8436970914a24b449e3b435ac5cb9454",
            "0d6142f372a74c6ca2f12af6c2105639",
            "de3e970afa584cb4b990584897c651a5",
            "232344cccfc5495289a9372a095b0482",
            "b2dbb83168a44709852c2dd0d945277a",
            "51667fd722a94ffeabba797f7b03f0c3",
            "1d5f5c2b993b401aabd32aea991487d9",
            "34e355575b0e4909af43ab5d25317ac6",
            "4ed6a7a38ed74ab2a3a803bf807ac75a",
            "159c1d10367d4e7aa9b30361ac2118fe",
            "423effc7ab994e53aa9c809e356f2bee",
            "f1c35e01aab943c19fc5f711bb929ee8",
            "46a614b1b80e4293bb2d261ad260c431",
            "72d04c9da0fb4b53a87c47ba615d089c",
            "491d33a3b470483eae96b98cc3ad1d3f",
            "ef2b77b2ae7f4ba9afdfacb23a5a5610",
            "80c378fb07194fc896b468dc00d29c56",
            "9a5b67e8507a4eec8323fe11622853e6",
            "7aa4107f387444e4af15862abea7dd71",
            "934abbe0801c4952919fd6135f8096b1",
            "a89ad02ebccd400daec4575d9f0f9428",
            "b76a74a6dc1f4866b5707899ba535ee9",
            "922f9a60e80a4b4295dd064a15afd1bf",
            "7359827231704bf5bf50c69a49c23ba5"
          ]
        },
        "outputId": "795945ec-d630-4cfe-ff0a-d0ca529de547"
      },
      "source": [
        "from transformers import AutoTokenizer, AutoModel\n",
        "\n",
        "pretrained_model = 'bert-base-multilingual-cased'\n",
        "tokenizer = AutoTokenizer.from_pretrained(pretrained_model)\n",
        "model = AutoModel.from_pretrained(pretrained_model)"
      ],
      "execution_count": null,
      "outputs": [
        {
          "output_type": "display_data",
          "data": {
            "application/vnd.jupyter.widget-view+json": {
              "model_id": "8436970914a24b449e3b435ac5cb9454",
              "version_minor": 0,
              "version_major": 2
            },
            "text/plain": [
              "HBox(children=(FloatProgress(value=0.0, description='Downloading', max=625.0, style=ProgressStyle(description_…"
            ]
          },
          "metadata": {
            "tags": []
          }
        },
        {
          "output_type": "stream",
          "text": [
            "\n"
          ],
          "name": "stdout"
        },
        {
          "output_type": "display_data",
          "data": {
            "application/vnd.jupyter.widget-view+json": {
              "model_id": "4ed6a7a38ed74ab2a3a803bf807ac75a",
              "version_minor": 0,
              "version_major": 2
            },
            "text/plain": [
              "HBox(children=(FloatProgress(value=0.0, description='Downloading', max=995526.0, style=ProgressStyle(descripti…"
            ]
          },
          "metadata": {
            "tags": []
          }
        },
        {
          "output_type": "stream",
          "text": [
            "\n"
          ],
          "name": "stdout"
        },
        {
          "output_type": "display_data",
          "data": {
            "application/vnd.jupyter.widget-view+json": {
              "model_id": "80c378fb07194fc896b468dc00d29c56",
              "version_minor": 0,
              "version_major": 2
            },
            "text/plain": [
              "HBox(children=(FloatProgress(value=0.0, description='Downloading', max=714314041.0, style=ProgressStyle(descri…"
            ]
          },
          "metadata": {
            "tags": []
          }
        },
        {
          "output_type": "stream",
          "text": [
            "\n"
          ],
          "name": "stdout"
        }
      ]
    },
    {
      "cell_type": "markdown",
      "metadata": {
        "id": "acv_BRrcD7_x",
        "colab_type": "text"
      },
      "source": [
        "### 1.1 Tokenizer\n"
      ]
    },
    {
      "cell_type": "code",
      "metadata": {
        "id": "0vFv8zMlDttc",
        "colab_type": "code",
        "colab": {
          "base_uri": "https://localhost:8080/",
          "height": 34
        },
        "outputId": "ff5f0695-afe5-4fd1-acbd-9737af268beb"
      },
      "source": [
        "from transformers import AutoTokenizer\n",
        "\n",
        "tokenizer = AutoTokenizer.from_pretrained('bert-base-multilingual-cased')\n",
        "raw_text = '토크나이저의 결과입니다.'\n",
        "input_ids = tokenizer(raw_text)['input_ids']\n",
        "print(input_ids)"
      ],
      "execution_count": null,
      "outputs": [
        {
          "output_type": "stream",
          "text": [
            "[101, 9873, 20308, 16439, 10739, 48387, 10459, 85533, 58303, 48345, 119, 102]\n"
          ],
          "name": "stdout"
        }
      ]
    },
    {
      "cell_type": "markdown",
      "metadata": {
        "id": "8EnvDM84EiX5",
        "colab_type": "text"
      },
      "source": [
        "### 1.2 Transformers Model"
      ]
    },
    {
      "cell_type": "code",
      "metadata": {
        "id": "u3tFgF5UEfsB",
        "colab_type": "code",
        "colab": {
          "base_uri": "https://localhost:8080/",
          "height": 153
        },
        "outputId": "479eb291-11aa-4c5f-bdbe-c088a1a699dc"
      },
      "source": [
        "from transformers import AutoTokenizer, AutoModel\n",
        "\n",
        "tokenizer = AutoTokenizer.from_pretrained('bert-base-multilingual-cased')\n",
        "model = AutoModel.from_pretrained('bert-base-multilingual-cased')\n",
        "\n",
        "inputs = tokenizer('토크나이저의 결과입니다.', return_tensors='pt')\n",
        "outputs = model(**inputs)[0]\n",
        "print(outputs)"
      ],
      "execution_count": null,
      "outputs": [
        {
          "output_type": "stream",
          "text": [
            "tensor([[[-0.0493, -0.1934, -0.4559,  ...,  0.2070,  0.1388,  0.1115],\n",
            "         [-0.4179, -0.6123, -0.2678,  ...,  0.3105,  0.0795, -0.2036],\n",
            "         [ 0.1398, -0.6489,  0.3444,  ...,  0.2988,  0.2643, -0.0940],\n",
            "         ...,\n",
            "         [-0.2535, -0.3039,  0.2575,  ..., -0.0936,  0.2240,  0.2749],\n",
            "         [-0.1312, -0.3211,  0.4351,  ...,  0.3288, -0.1510,  0.1887],\n",
            "         [-0.2148, -0.3251,  0.0978,  ...,  0.1261,  0.2307,  0.1305]]],\n",
            "       grad_fn=<NativeLayerNormBackward>)\n"
          ],
          "name": "stdout"
        }
      ]
    },
    {
      "cell_type": "markdown",
      "metadata": {
        "id": "LMAT_koSE2py",
        "colab_type": "text"
      },
      "source": [
        "### 1.3 Heads"
      ]
    },
    {
      "cell_type": "code",
      "metadata": {
        "id": "tz1FpcLEMAJM",
        "colab_type": "code",
        "colab": {}
      },
      "source": [
        "from transformers import BertTokenizer, BertForSequenceClassification\n",
        "\n",
        "tokenizer = BertTokenizer.from_pretrained('bert-base-multilingual-cased')\n",
        "model = BertForSequenceClassification.from_pretrained('bert-base-multilingual-cased')"
      ],
      "execution_count": null,
      "outputs": []
    },
    {
      "cell_type": "markdown",
      "metadata": {
        "id": "w3IZ0Id9MSBH",
        "colab_type": "text"
      },
      "source": [
        "#### (별첨) Customized head"
      ]
    },
    {
      "cell_type": "code",
      "metadata": {
        "id": "YlwxFY9OE1wY",
        "colab_type": "code",
        "colab": {
          "base_uri": "https://localhost:8080/",
          "height": 122
        },
        "outputId": "7be5e7eb-96c3-44ca-c06b-5d2627cc99ea"
      },
      "source": [
        "import torch\n",
        "from transformers import BertPreTrainedModel, BertConfig, BertModel\n",
        "\n",
        "class BertForCustomClassification(BertPreTrainedModel):\n",
        "    def __init__(self, config):\n",
        "        super().__init__(config)\n",
        "        self.transformer_model = BertModel(config)\n",
        "\n",
        "        # customized output layer 정의\n",
        "        self.custom_layer = torch.nn.Linear(config.hidden_size, config.output_size)\n",
        "        self.init_weights()\n",
        "\n",
        "    def forward(self, **kwargs):\n",
        "        contextual_embedded_vector = self.transformer_model(**kwargs)[1]\n",
        "        logits = self.custom_layer(contextual_embedded_vector)\n",
        "\n",
        "        # loss와 함께 정의\n",
        "        loss = torch.nn.CrossEntropyLoss(logits, labels)\n",
        "        return ((loss,) + contextual_embedded_vector)\n",
        "\n",
        "config = BertConfig.from_pretrained('bert-base-multilingual-cased')\n",
        "config.output_size = 2\n",
        "model = BertForCustomClassification.from_pretrained('bert-base-multilingual-cased', config=config)"
      ],
      "execution_count": null,
      "outputs": [
        {
          "output_type": "stream",
          "text": [
            "Some weights of the model checkpoint at bert-base-multilingual-cased were not used when initializing BertForCustomClassification: ['bert.embeddings.word_embeddings.weight', 'bert.embeddings.position_embeddings.weight', 'bert.embeddings.token_type_embeddings.weight', 'bert.encoder.layer.0.attention.self.query.weight', 'bert.encoder.layer.0.attention.self.query.bias', 'bert.encoder.layer.0.attention.self.key.weight', 'bert.encoder.layer.0.attention.self.key.bias', 'bert.encoder.layer.0.attention.self.value.weight', 'bert.encoder.layer.0.attention.self.value.bias', 'bert.encoder.layer.0.attention.output.dense.weight', 'bert.encoder.layer.0.attention.output.dense.bias', 'bert.encoder.layer.0.intermediate.dense.weight', 'bert.encoder.layer.0.intermediate.dense.bias', 'bert.encoder.layer.0.output.dense.weight', 'bert.encoder.layer.0.output.dense.bias', 'bert.encoder.layer.1.attention.self.query.weight', 'bert.encoder.layer.1.attention.self.query.bias', 'bert.encoder.layer.1.attention.self.key.weight', 'bert.encoder.layer.1.attention.self.key.bias', 'bert.encoder.layer.1.attention.self.value.weight', 'bert.encoder.layer.1.attention.self.value.bias', 'bert.encoder.layer.1.attention.output.dense.weight', 'bert.encoder.layer.1.attention.output.dense.bias', 'bert.encoder.layer.1.intermediate.dense.weight', 'bert.encoder.layer.1.intermediate.dense.bias', 'bert.encoder.layer.1.output.dense.weight', 'bert.encoder.layer.1.output.dense.bias', 'bert.encoder.layer.2.attention.self.query.weight', 'bert.encoder.layer.2.attention.self.query.bias', 'bert.encoder.layer.2.attention.self.key.weight', 'bert.encoder.layer.2.attention.self.key.bias', 'bert.encoder.layer.2.attention.self.value.weight', 'bert.encoder.layer.2.attention.self.value.bias', 'bert.encoder.layer.2.attention.output.dense.weight', 'bert.encoder.layer.2.attention.output.dense.bias', 'bert.encoder.layer.2.intermediate.dense.weight', 'bert.encoder.layer.2.intermediate.dense.bias', 'bert.encoder.layer.2.output.dense.weight', 'bert.encoder.layer.2.output.dense.bias', 'bert.encoder.layer.3.attention.self.query.weight', 'bert.encoder.layer.3.attention.self.query.bias', 'bert.encoder.layer.3.attention.self.key.weight', 'bert.encoder.layer.3.attention.self.key.bias', 'bert.encoder.layer.3.attention.self.value.weight', 'bert.encoder.layer.3.attention.self.value.bias', 'bert.encoder.layer.3.attention.output.dense.weight', 'bert.encoder.layer.3.attention.output.dense.bias', 'bert.encoder.layer.3.intermediate.dense.weight', 'bert.encoder.layer.3.intermediate.dense.bias', 'bert.encoder.layer.3.output.dense.weight', 'bert.encoder.layer.3.output.dense.bias', 'bert.encoder.layer.4.attention.self.query.weight', 'bert.encoder.layer.4.attention.self.query.bias', 'bert.encoder.layer.4.attention.self.key.weight', 'bert.encoder.layer.4.attention.self.key.bias', 'bert.encoder.layer.4.attention.self.value.weight', 'bert.encoder.layer.4.attention.self.value.bias', 'bert.encoder.layer.4.attention.output.dense.weight', 'bert.encoder.layer.4.attention.output.dense.bias', 'bert.encoder.layer.4.intermediate.dense.weight', 'bert.encoder.layer.4.intermediate.dense.bias', 'bert.encoder.layer.4.output.dense.weight', 'bert.encoder.layer.4.output.dense.bias', 'bert.encoder.layer.5.attention.self.query.weight', 'bert.encoder.layer.5.attention.self.query.bias', 'bert.encoder.layer.5.attention.self.key.weight', 'bert.encoder.layer.5.attention.self.key.bias', 'bert.encoder.layer.5.attention.self.value.weight', 'bert.encoder.layer.5.attention.self.value.bias', 'bert.encoder.layer.5.attention.output.dense.weight', 'bert.encoder.layer.5.attention.output.dense.bias', 'bert.encoder.layer.5.intermediate.dense.weight', 'bert.encoder.layer.5.intermediate.dense.bias', 'bert.encoder.layer.5.output.dense.weight', 'bert.encoder.layer.5.output.dense.bias', 'bert.encoder.layer.6.attention.self.query.weight', 'bert.encoder.layer.6.attention.self.query.bias', 'bert.encoder.layer.6.attention.self.key.weight', 'bert.encoder.layer.6.attention.self.key.bias', 'bert.encoder.layer.6.attention.self.value.weight', 'bert.encoder.layer.6.attention.self.value.bias', 'bert.encoder.layer.6.attention.output.dense.weight', 'bert.encoder.layer.6.attention.output.dense.bias', 'bert.encoder.layer.6.intermediate.dense.weight', 'bert.encoder.layer.6.intermediate.dense.bias', 'bert.encoder.layer.6.output.dense.weight', 'bert.encoder.layer.6.output.dense.bias', 'bert.encoder.layer.7.attention.self.query.weight', 'bert.encoder.layer.7.attention.self.query.bias', 'bert.encoder.layer.7.attention.self.key.weight', 'bert.encoder.layer.7.attention.self.key.bias', 'bert.encoder.layer.7.attention.self.value.weight', 'bert.encoder.layer.7.attention.self.value.bias', 'bert.encoder.layer.7.attention.output.dense.weight', 'bert.encoder.layer.7.attention.output.dense.bias', 'bert.encoder.layer.7.intermediate.dense.weight', 'bert.encoder.layer.7.intermediate.dense.bias', 'bert.encoder.layer.7.output.dense.weight', 'bert.encoder.layer.7.output.dense.bias', 'bert.encoder.layer.8.attention.self.query.weight', 'bert.encoder.layer.8.attention.self.query.bias', 'bert.encoder.layer.8.attention.self.key.weight', 'bert.encoder.layer.8.attention.self.key.bias', 'bert.encoder.layer.8.attention.self.value.weight', 'bert.encoder.layer.8.attention.self.value.bias', 'bert.encoder.layer.8.attention.output.dense.weight', 'bert.encoder.layer.8.attention.output.dense.bias', 'bert.encoder.layer.8.intermediate.dense.weight', 'bert.encoder.layer.8.intermediate.dense.bias', 'bert.encoder.layer.8.output.dense.weight', 'bert.encoder.layer.8.output.dense.bias', 'bert.encoder.layer.9.attention.self.query.weight', 'bert.encoder.layer.9.attention.self.query.bias', 'bert.encoder.layer.9.attention.self.key.weight', 'bert.encoder.layer.9.attention.self.key.bias', 'bert.encoder.layer.9.attention.self.value.weight', 'bert.encoder.layer.9.attention.self.value.bias', 'bert.encoder.layer.9.attention.output.dense.weight', 'bert.encoder.layer.9.attention.output.dense.bias', 'bert.encoder.layer.9.intermediate.dense.weight', 'bert.encoder.layer.9.intermediate.dense.bias', 'bert.encoder.layer.9.output.dense.weight', 'bert.encoder.layer.9.output.dense.bias', 'bert.encoder.layer.10.attention.self.query.weight', 'bert.encoder.layer.10.attention.self.query.bias', 'bert.encoder.layer.10.attention.self.key.weight', 'bert.encoder.layer.10.attention.self.key.bias', 'bert.encoder.layer.10.attention.self.value.weight', 'bert.encoder.layer.10.attention.self.value.bias', 'bert.encoder.layer.10.attention.output.dense.weight', 'bert.encoder.layer.10.attention.output.dense.bias', 'bert.encoder.layer.10.intermediate.dense.weight', 'bert.encoder.layer.10.intermediate.dense.bias', 'bert.encoder.layer.10.output.dense.weight', 'bert.encoder.layer.10.output.dense.bias', 'bert.encoder.layer.11.attention.self.query.weight', 'bert.encoder.layer.11.attention.self.query.bias', 'bert.encoder.layer.11.attention.self.key.weight', 'bert.encoder.layer.11.attention.self.key.bias', 'bert.encoder.layer.11.attention.self.value.weight', 'bert.encoder.layer.11.attention.self.value.bias', 'bert.encoder.layer.11.attention.output.dense.weight', 'bert.encoder.layer.11.attention.output.dense.bias', 'bert.encoder.layer.11.intermediate.dense.weight', 'bert.encoder.layer.11.intermediate.dense.bias', 'bert.encoder.layer.11.output.dense.weight', 'bert.encoder.layer.11.output.dense.bias', 'bert.pooler.dense.weight', 'bert.pooler.dense.bias', 'bert.embeddings.LayerNorm.weight', 'bert.embeddings.LayerNorm.bias', 'bert.encoder.layer.0.attention.output.LayerNorm.weight', 'bert.encoder.layer.0.attention.output.LayerNorm.bias', 'bert.encoder.layer.0.output.LayerNorm.weight', 'bert.encoder.layer.0.output.LayerNorm.bias', 'bert.encoder.layer.1.attention.output.LayerNorm.weight', 'bert.encoder.layer.1.attention.output.LayerNorm.bias', 'bert.encoder.layer.1.output.LayerNorm.weight', 'bert.encoder.layer.1.output.LayerNorm.bias', 'bert.encoder.layer.2.attention.output.LayerNorm.weight', 'bert.encoder.layer.2.attention.output.LayerNorm.bias', 'bert.encoder.layer.2.output.LayerNorm.weight', 'bert.encoder.layer.2.output.LayerNorm.bias', 'bert.encoder.layer.3.attention.output.LayerNorm.weight', 'bert.encoder.layer.3.attention.output.LayerNorm.bias', 'bert.encoder.layer.3.output.LayerNorm.weight', 'bert.encoder.layer.3.output.LayerNorm.bias', 'bert.encoder.layer.4.attention.output.LayerNorm.weight', 'bert.encoder.layer.4.attention.output.LayerNorm.bias', 'bert.encoder.layer.4.output.LayerNorm.weight', 'bert.encoder.layer.4.output.LayerNorm.bias', 'bert.encoder.layer.5.attention.output.LayerNorm.weight', 'bert.encoder.layer.5.attention.output.LayerNorm.bias', 'bert.encoder.layer.5.output.LayerNorm.weight', 'bert.encoder.layer.5.output.LayerNorm.bias', 'bert.encoder.layer.6.attention.output.LayerNorm.weight', 'bert.encoder.layer.6.attention.output.LayerNorm.bias', 'bert.encoder.layer.6.output.LayerNorm.weight', 'bert.encoder.layer.6.output.LayerNorm.bias', 'bert.encoder.layer.7.attention.output.LayerNorm.weight', 'bert.encoder.layer.7.attention.output.LayerNorm.bias', 'bert.encoder.layer.7.output.LayerNorm.weight', 'bert.encoder.layer.7.output.LayerNorm.bias', 'bert.encoder.layer.8.attention.output.LayerNorm.weight', 'bert.encoder.layer.8.attention.output.LayerNorm.bias', 'bert.encoder.layer.8.output.LayerNorm.weight', 'bert.encoder.layer.8.output.LayerNorm.bias', 'bert.encoder.layer.9.attention.output.LayerNorm.weight', 'bert.encoder.layer.9.attention.output.LayerNorm.bias', 'bert.encoder.layer.9.output.LayerNorm.weight', 'bert.encoder.layer.9.output.LayerNorm.bias', 'bert.encoder.layer.10.attention.output.LayerNorm.weight', 'bert.encoder.layer.10.attention.output.LayerNorm.bias', 'bert.encoder.layer.10.output.LayerNorm.weight', 'bert.encoder.layer.10.output.LayerNorm.bias', 'bert.encoder.layer.11.attention.output.LayerNorm.weight', 'bert.encoder.layer.11.attention.output.LayerNorm.bias', 'bert.encoder.layer.11.output.LayerNorm.weight', 'bert.encoder.layer.11.output.LayerNorm.bias']\n",
            "- This IS expected if you are initializing BertForCustomClassification from the checkpoint of a model trained on another task or with another architecture (e.g. initializing a BertForSequenceClassification model from a BertForPretraining model).\n",
            "- This IS NOT expected if you are initializing BertForCustomClassification from the checkpoint of a model that you expect to be exactly identical (initializing a BertForSequenceClassification model from a BertForSequenceClassification model).\n",
            "Some weights of BertForCustomClassification were not initialized from the model checkpoint at bert-base-multilingual-cased and are newly initialized: ['bert.transformer_model.embeddings.word_embeddings.weight', 'bert.transformer_model.embeddings.position_embeddings.weight', 'bert.transformer_model.embeddings.token_type_embeddings.weight', 'bert.transformer_model.embeddings.LayerNorm.weight', 'bert.transformer_model.embeddings.LayerNorm.bias', 'bert.transformer_model.encoder.layer.0.attention.self.query.weight', 'bert.transformer_model.encoder.layer.0.attention.self.query.bias', 'bert.transformer_model.encoder.layer.0.attention.self.key.weight', 'bert.transformer_model.encoder.layer.0.attention.self.key.bias', 'bert.transformer_model.encoder.layer.0.attention.self.value.weight', 'bert.transformer_model.encoder.layer.0.attention.self.value.bias', 'bert.transformer_model.encoder.layer.0.attention.output.dense.weight', 'bert.transformer_model.encoder.layer.0.attention.output.dense.bias', 'bert.transformer_model.encoder.layer.0.attention.output.LayerNorm.weight', 'bert.transformer_model.encoder.layer.0.attention.output.LayerNorm.bias', 'bert.transformer_model.encoder.layer.0.intermediate.dense.weight', 'bert.transformer_model.encoder.layer.0.intermediate.dense.bias', 'bert.transformer_model.encoder.layer.0.output.dense.weight', 'bert.transformer_model.encoder.layer.0.output.dense.bias', 'bert.transformer_model.encoder.layer.0.output.LayerNorm.weight', 'bert.transformer_model.encoder.layer.0.output.LayerNorm.bias', 'bert.transformer_model.encoder.layer.1.attention.self.query.weight', 'bert.transformer_model.encoder.layer.1.attention.self.query.bias', 'bert.transformer_model.encoder.layer.1.attention.self.key.weight', 'bert.transformer_model.encoder.layer.1.attention.self.key.bias', 'bert.transformer_model.encoder.layer.1.attention.self.value.weight', 'bert.transformer_model.encoder.layer.1.attention.self.value.bias', 'bert.transformer_model.encoder.layer.1.attention.output.dense.weight', 'bert.transformer_model.encoder.layer.1.attention.output.dense.bias', 'bert.transformer_model.encoder.layer.1.attention.output.LayerNorm.weight', 'bert.transformer_model.encoder.layer.1.attention.output.LayerNorm.bias', 'bert.transformer_model.encoder.layer.1.intermediate.dense.weight', 'bert.transformer_model.encoder.layer.1.intermediate.dense.bias', 'bert.transformer_model.encoder.layer.1.output.dense.weight', 'bert.transformer_model.encoder.layer.1.output.dense.bias', 'bert.transformer_model.encoder.layer.1.output.LayerNorm.weight', 'bert.transformer_model.encoder.layer.1.output.LayerNorm.bias', 'bert.transformer_model.encoder.layer.2.attention.self.query.weight', 'bert.transformer_model.encoder.layer.2.attention.self.query.bias', 'bert.transformer_model.encoder.layer.2.attention.self.key.weight', 'bert.transformer_model.encoder.layer.2.attention.self.key.bias', 'bert.transformer_model.encoder.layer.2.attention.self.value.weight', 'bert.transformer_model.encoder.layer.2.attention.self.value.bias', 'bert.transformer_model.encoder.layer.2.attention.output.dense.weight', 'bert.transformer_model.encoder.layer.2.attention.output.dense.bias', 'bert.transformer_model.encoder.layer.2.attention.output.LayerNorm.weight', 'bert.transformer_model.encoder.layer.2.attention.output.LayerNorm.bias', 'bert.transformer_model.encoder.layer.2.intermediate.dense.weight', 'bert.transformer_model.encoder.layer.2.intermediate.dense.bias', 'bert.transformer_model.encoder.layer.2.output.dense.weight', 'bert.transformer_model.encoder.layer.2.output.dense.bias', 'bert.transformer_model.encoder.layer.2.output.LayerNorm.weight', 'bert.transformer_model.encoder.layer.2.output.LayerNorm.bias', 'bert.transformer_model.encoder.layer.3.attention.self.query.weight', 'bert.transformer_model.encoder.layer.3.attention.self.query.bias', 'bert.transformer_model.encoder.layer.3.attention.self.key.weight', 'bert.transformer_model.encoder.layer.3.attention.self.key.bias', 'bert.transformer_model.encoder.layer.3.attention.self.value.weight', 'bert.transformer_model.encoder.layer.3.attention.self.value.bias', 'bert.transformer_model.encoder.layer.3.attention.output.dense.weight', 'bert.transformer_model.encoder.layer.3.attention.output.dense.bias', 'bert.transformer_model.encoder.layer.3.attention.output.LayerNorm.weight', 'bert.transformer_model.encoder.layer.3.attention.output.LayerNorm.bias', 'bert.transformer_model.encoder.layer.3.intermediate.dense.weight', 'bert.transformer_model.encoder.layer.3.intermediate.dense.bias', 'bert.transformer_model.encoder.layer.3.output.dense.weight', 'bert.transformer_model.encoder.layer.3.output.dense.bias', 'bert.transformer_model.encoder.layer.3.output.LayerNorm.weight', 'bert.transformer_model.encoder.layer.3.output.LayerNorm.bias', 'bert.transformer_model.encoder.layer.4.attention.self.query.weight', 'bert.transformer_model.encoder.layer.4.attention.self.query.bias', 'bert.transformer_model.encoder.layer.4.attention.self.key.weight', 'bert.transformer_model.encoder.layer.4.attention.self.key.bias', 'bert.transformer_model.encoder.layer.4.attention.self.value.weight', 'bert.transformer_model.encoder.layer.4.attention.self.value.bias', 'bert.transformer_model.encoder.layer.4.attention.output.dense.weight', 'bert.transformer_model.encoder.layer.4.attention.output.dense.bias', 'bert.transformer_model.encoder.layer.4.attention.output.LayerNorm.weight', 'bert.transformer_model.encoder.layer.4.attention.output.LayerNorm.bias', 'bert.transformer_model.encoder.layer.4.intermediate.dense.weight', 'bert.transformer_model.encoder.layer.4.intermediate.dense.bias', 'bert.transformer_model.encoder.layer.4.output.dense.weight', 'bert.transformer_model.encoder.layer.4.output.dense.bias', 'bert.transformer_model.encoder.layer.4.output.LayerNorm.weight', 'bert.transformer_model.encoder.layer.4.output.LayerNorm.bias', 'bert.transformer_model.encoder.layer.5.attention.self.query.weight', 'bert.transformer_model.encoder.layer.5.attention.self.query.bias', 'bert.transformer_model.encoder.layer.5.attention.self.key.weight', 'bert.transformer_model.encoder.layer.5.attention.self.key.bias', 'bert.transformer_model.encoder.layer.5.attention.self.value.weight', 'bert.transformer_model.encoder.layer.5.attention.self.value.bias', 'bert.transformer_model.encoder.layer.5.attention.output.dense.weight', 'bert.transformer_model.encoder.layer.5.attention.output.dense.bias', 'bert.transformer_model.encoder.layer.5.attention.output.LayerNorm.weight', 'bert.transformer_model.encoder.layer.5.attention.output.LayerNorm.bias', 'bert.transformer_model.encoder.layer.5.intermediate.dense.weight', 'bert.transformer_model.encoder.layer.5.intermediate.dense.bias', 'bert.transformer_model.encoder.layer.5.output.dense.weight', 'bert.transformer_model.encoder.layer.5.output.dense.bias', 'bert.transformer_model.encoder.layer.5.output.LayerNorm.weight', 'bert.transformer_model.encoder.layer.5.output.LayerNorm.bias', 'bert.transformer_model.encoder.layer.6.attention.self.query.weight', 'bert.transformer_model.encoder.layer.6.attention.self.query.bias', 'bert.transformer_model.encoder.layer.6.attention.self.key.weight', 'bert.transformer_model.encoder.layer.6.attention.self.key.bias', 'bert.transformer_model.encoder.layer.6.attention.self.value.weight', 'bert.transformer_model.encoder.layer.6.attention.self.value.bias', 'bert.transformer_model.encoder.layer.6.attention.output.dense.weight', 'bert.transformer_model.encoder.layer.6.attention.output.dense.bias', 'bert.transformer_model.encoder.layer.6.attention.output.LayerNorm.weight', 'bert.transformer_model.encoder.layer.6.attention.output.LayerNorm.bias', 'bert.transformer_model.encoder.layer.6.intermediate.dense.weight', 'bert.transformer_model.encoder.layer.6.intermediate.dense.bias', 'bert.transformer_model.encoder.layer.6.output.dense.weight', 'bert.transformer_model.encoder.layer.6.output.dense.bias', 'bert.transformer_model.encoder.layer.6.output.LayerNorm.weight', 'bert.transformer_model.encoder.layer.6.output.LayerNorm.bias', 'bert.transformer_model.encoder.layer.7.attention.self.query.weight', 'bert.transformer_model.encoder.layer.7.attention.self.query.bias', 'bert.transformer_model.encoder.layer.7.attention.self.key.weight', 'bert.transformer_model.encoder.layer.7.attention.self.key.bias', 'bert.transformer_model.encoder.layer.7.attention.self.value.weight', 'bert.transformer_model.encoder.layer.7.attention.self.value.bias', 'bert.transformer_model.encoder.layer.7.attention.output.dense.weight', 'bert.transformer_model.encoder.layer.7.attention.output.dense.bias', 'bert.transformer_model.encoder.layer.7.attention.output.LayerNorm.weight', 'bert.transformer_model.encoder.layer.7.attention.output.LayerNorm.bias', 'bert.transformer_model.encoder.layer.7.intermediate.dense.weight', 'bert.transformer_model.encoder.layer.7.intermediate.dense.bias', 'bert.transformer_model.encoder.layer.7.output.dense.weight', 'bert.transformer_model.encoder.layer.7.output.dense.bias', 'bert.transformer_model.encoder.layer.7.output.LayerNorm.weight', 'bert.transformer_model.encoder.layer.7.output.LayerNorm.bias', 'bert.transformer_model.encoder.layer.8.attention.self.query.weight', 'bert.transformer_model.encoder.layer.8.attention.self.query.bias', 'bert.transformer_model.encoder.layer.8.attention.self.key.weight', 'bert.transformer_model.encoder.layer.8.attention.self.key.bias', 'bert.transformer_model.encoder.layer.8.attention.self.value.weight', 'bert.transformer_model.encoder.layer.8.attention.self.value.bias', 'bert.transformer_model.encoder.layer.8.attention.output.dense.weight', 'bert.transformer_model.encoder.layer.8.attention.output.dense.bias', 'bert.transformer_model.encoder.layer.8.attention.output.LayerNorm.weight', 'bert.transformer_model.encoder.layer.8.attention.output.LayerNorm.bias', 'bert.transformer_model.encoder.layer.8.intermediate.dense.weight', 'bert.transformer_model.encoder.layer.8.intermediate.dense.bias', 'bert.transformer_model.encoder.layer.8.output.dense.weight', 'bert.transformer_model.encoder.layer.8.output.dense.bias', 'bert.transformer_model.encoder.layer.8.output.LayerNorm.weight', 'bert.transformer_model.encoder.layer.8.output.LayerNorm.bias', 'bert.transformer_model.encoder.layer.9.attention.self.query.weight', 'bert.transformer_model.encoder.layer.9.attention.self.query.bias', 'bert.transformer_model.encoder.layer.9.attention.self.key.weight', 'bert.transformer_model.encoder.layer.9.attention.self.key.bias', 'bert.transformer_model.encoder.layer.9.attention.self.value.weight', 'bert.transformer_model.encoder.layer.9.attention.self.value.bias', 'bert.transformer_model.encoder.layer.9.attention.output.dense.weight', 'bert.transformer_model.encoder.layer.9.attention.output.dense.bias', 'bert.transformer_model.encoder.layer.9.attention.output.LayerNorm.weight', 'bert.transformer_model.encoder.layer.9.attention.output.LayerNorm.bias', 'bert.transformer_model.encoder.layer.9.intermediate.dense.weight', 'bert.transformer_model.encoder.layer.9.intermediate.dense.bias', 'bert.transformer_model.encoder.layer.9.output.dense.weight', 'bert.transformer_model.encoder.layer.9.output.dense.bias', 'bert.transformer_model.encoder.layer.9.output.LayerNorm.weight', 'bert.transformer_model.encoder.layer.9.output.LayerNorm.bias', 'bert.transformer_model.encoder.layer.10.attention.self.query.weight', 'bert.transformer_model.encoder.layer.10.attention.self.query.bias', 'bert.transformer_model.encoder.layer.10.attention.self.key.weight', 'bert.transformer_model.encoder.layer.10.attention.self.key.bias', 'bert.transformer_model.encoder.layer.10.attention.self.value.weight', 'bert.transformer_model.encoder.layer.10.attention.self.value.bias', 'bert.transformer_model.encoder.layer.10.attention.output.dense.weight', 'bert.transformer_model.encoder.layer.10.attention.output.dense.bias', 'bert.transformer_model.encoder.layer.10.attention.output.LayerNorm.weight', 'bert.transformer_model.encoder.layer.10.attention.output.LayerNorm.bias', 'bert.transformer_model.encoder.layer.10.intermediate.dense.weight', 'bert.transformer_model.encoder.layer.10.intermediate.dense.bias', 'bert.transformer_model.encoder.layer.10.output.dense.weight', 'bert.transformer_model.encoder.layer.10.output.dense.bias', 'bert.transformer_model.encoder.layer.10.output.LayerNorm.weight', 'bert.transformer_model.encoder.layer.10.output.LayerNorm.bias', 'bert.transformer_model.encoder.layer.11.attention.self.query.weight', 'bert.transformer_model.encoder.layer.11.attention.self.query.bias', 'bert.transformer_model.encoder.layer.11.attention.self.key.weight', 'bert.transformer_model.encoder.layer.11.attention.self.key.bias', 'bert.transformer_model.encoder.layer.11.attention.self.value.weight', 'bert.transformer_model.encoder.layer.11.attention.self.value.bias', 'bert.transformer_model.encoder.layer.11.attention.output.dense.weight', 'bert.transformer_model.encoder.layer.11.attention.output.dense.bias', 'bert.transformer_model.encoder.layer.11.attention.output.LayerNorm.weight', 'bert.transformer_model.encoder.layer.11.attention.output.LayerNorm.bias', 'bert.transformer_model.encoder.layer.11.intermediate.dense.weight', 'bert.transformer_model.encoder.layer.11.intermediate.dense.bias', 'bert.transformer_model.encoder.layer.11.output.dense.weight', 'bert.transformer_model.encoder.layer.11.output.dense.bias', 'bert.transformer_model.encoder.layer.11.output.LayerNorm.weight', 'bert.transformer_model.encoder.layer.11.output.LayerNorm.bias', 'bert.transformer_model.pooler.dense.weight', 'bert.transformer_model.pooler.dense.bias', 'bert.custom_layer.weight', 'bert.custom_layer.bias']\n",
            "You should probably TRAIN this model on a down-stream task to be able to use it for predictions and inference.\n"
          ],
          "name": "stderr"
        }
      ]
    },
    {
      "cell_type": "markdown",
      "metadata": {
        "id": "QAmBG8vNMW05",
        "colab_type": "text"
      },
      "source": [
        "## 2) Pytorch와 Tensorflow간 높은 호환성"
      ]
    },
    {
      "cell_type": "code",
      "metadata": {
        "id": "jw4s5Ij2KgmI",
        "colab_type": "code",
        "colab": {
          "base_uri": "https://localhost:8080/",
          "height": 343
        },
        "outputId": "ee7072b9-f1d5-4c34-dc53-9c04c0dd97ce"
      },
      "source": [
        "from transformers import BertTokenizer, TFBertModel\n",
        "\n",
        "tokenizer = BertTokenizer.from_pretrained('bert-base-multilingual-cased')\n",
        "model = TFBertModel.from_pretrained('bert-base-multilingual-cased', from_pt=True)\n",
        "\n",
        "inputs = tokenizer('토크나이저의 결과입니다.', return_tensors='tf')\n",
        "outputs = model(inputs)[0]\n",
        "print(outputs)"
      ],
      "execution_count": null,
      "outputs": [
        {
          "output_type": "stream",
          "text": [
            "All PyTorch model weights were used when initializing TFBertModel.\n",
            "\n",
            "Some weights or buffers of the PyTorch model TFBertModel were not initialized from the TF 2.0 model and are newly initialized: ['cls.seq_relationship.bias', 'cls.predictions.bias', 'cls.predictions.transform.dense.bias', 'cls.predictions.transform.LayerNorm.weight', 'cls.predictions.decoder.weight', 'cls.predictions.transform.dense.weight', 'cls.seq_relationship.weight', 'cls.predictions.transform.LayerNorm.bias']\n",
            "You should probably TRAIN this model on a down-stream task to be able to use it for predictions and inference.\n"
          ],
          "name": "stderr"
        },
        {
          "output_type": "stream",
          "text": [
            "tf.Tensor(\n",
            "[[[-0.04932138 -0.1934443  -0.45592806 ...  0.20699202  0.13877389\n",
            "    0.1114625 ]\n",
            "  [-0.41787338 -0.6123404  -0.26776335 ...  0.31048116  0.0795071\n",
            "   -0.20364681]\n",
            "  [ 0.13984454 -0.6488731   0.34438094 ...  0.29884517  0.26428992\n",
            "   -0.09395621]\n",
            "  ...\n",
            "  [-0.25347716 -0.30392265  0.25751013 ... -0.09357093  0.22395872\n",
            "    0.27494037]\n",
            "  [-0.1311921  -0.32111168  0.43514502 ...  0.32883495 -0.15097503\n",
            "    0.18871985]\n",
            "  [-0.21476766 -0.3250965   0.09775992 ...  0.12612699  0.2306703\n",
            "    0.13046268]]], shape=(1, 12, 768), dtype=float32)\n"
          ],
          "name": "stdout"
        }
      ]
    },
    {
      "cell_type": "code",
      "metadata": {
        "id": "VIzXGmhqK3C2",
        "colab_type": "code",
        "colab": {}
      },
      "source": [
        ""
      ],
      "execution_count": null,
      "outputs": []
    }
  ]
}